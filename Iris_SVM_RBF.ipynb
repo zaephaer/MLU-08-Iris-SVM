{
  "nbformat": 4,
  "nbformat_minor": 0,
  "metadata": {
    "colab": {
      "name": "Iris - SVM RBF.ipynb",
      "provenance": [],
      "collapsed_sections": [],
      "authorship_tag": "ABX9TyOPX7fcnTMbyCLuwqvQRh+1",
      "include_colab_link": true
    },
    "kernelspec": {
      "name": "python3",
      "display_name": "Python 3"
    },
    "language_info": {
      "name": "python"
    }
  },
  "cells": [
    {
      "cell_type": "markdown",
      "metadata": {
        "id": "view-in-github",
        "colab_type": "text"
      },
      "source": [
        "<a href=\"https://colab.research.google.com/github/zaephaer/MLU-08-Iris-SVM/blob/main/Iris_SVM_RBF.ipynb\" target=\"_parent\"><img src=\"https://colab.research.google.com/assets/colab-badge.svg\" alt=\"Open In Colab\"/></a>"
      ]
    },
    {
      "cell_type": "markdown",
      "metadata": {
        "id": "Dw7o6bvMDsry"
      },
      "source": [
        "# Support Vector Machine (SVM) using Gaussian Radial Basis Function (RBF)"
      ]
    },
    {
      "cell_type": "code",
      "metadata": {
        "colab": {
          "base_uri": "https://localhost:8080/"
        },
        "id": "g5W5_8bIDqXQ",
        "outputId": "42d62ea5-87ec-4529-acb9-f4a583092939"
      },
      "source": [
        "# Load library\n",
        "import numpy as np\n",
        "import pandas as pd\n",
        "import seaborn as sns\n",
        "from sklearn import datasets\n",
        "import matplotlib.pyplot as plt\n",
        "%matplotlib inline\n",
        "sns.set_style('whitegrid')\n",
        "import sys\n",
        "import sklearn\n",
        "\n",
        "print(\"Numpy version: \", np.__version__)\n",
        "print(\"Panda version: \", pd.__version__)\n",
        "print(\"System version: \", sys.version)\n",
        "print(\"Sklearn version: \", sklearn.__version__)"
      ],
      "execution_count": 16,
      "outputs": [
        {
          "output_type": "stream",
          "name": "stdout",
          "text": [
            "Numpy version:  1.19.5\n",
            "Panda version:  1.1.5\n",
            "System version:  3.7.12 (default, Sep 10 2021, 00:21:48) \n",
            "[GCC 7.5.0]\n",
            "Sklearn version:  0.22.2.post1\n"
          ]
        }
      ]
    },
    {
      "cell_type": "code",
      "metadata": {
        "id": "3oyuYn4BD48y"
      },
      "source": [
        "# Load dataset\n",
        "df = sns.load_dataset('iris')"
      ],
      "execution_count": 17,
      "outputs": []
    },
    {
      "cell_type": "markdown",
      "metadata": {
        "id": "9v78ChkXD9M0"
      },
      "source": [
        "# Define Feature and Target"
      ]
    },
    {
      "cell_type": "code",
      "metadata": {
        "id": "A6pSUq8BD-Q2"
      },
      "source": [
        "# Select all variables as features\n",
        "#col = ['sepal_length','sepal_width','petal_length','petal_width']\n",
        "col = ['petal_length','petal_width']\n",
        "X = df.loc[:, col]\n",
        "\n",
        "# To see target unique output\n",
        "df.species.unique()\n",
        "# Convert target output into integer\n",
        "species_to_num = {'setosa': 0,'versicolor': 1,'virginica': 2}\n",
        "df['tmp'] = df['species'].map(species_to_num)\n",
        "y = df['tmp']"
      ],
      "execution_count": 18,
      "outputs": []
    },
    {
      "cell_type": "code",
      "metadata": {
        "colab": {
          "base_uri": "https://localhost:8080/"
        },
        "id": "SMP1xzeAEOGF",
        "outputId": "0320fe65-13e3-4f12-ab3c-b56c26167e0f"
      },
      "source": [
        "from sklearn.model_selection import train_test_split\n",
        "X_train, X_test, y_train, y_test = train_test_split(X, y,\n",
        "                                                    train_size=0.8, \n",
        "                                                    random_state=0)\n",
        "\n",
        "# Scaling feature\n",
        "from sklearn.preprocessing import StandardScaler\n",
        "sc_x = StandardScaler()\n",
        "X_std_train = sc_x.fit_transform(X_train)\n",
        "\n",
        "from sklearn import svm\n",
        "C = 1.0\n",
        "clf = svm.SVC(kernel='rbf', gamma=0.7, C=C)\n",
        "clf.fit(X_std_train, y_train)"
      ],
      "execution_count": 19,
      "outputs": [
        {
          "output_type": "execute_result",
          "data": {
            "text/plain": [
              "SVC(C=1.0, break_ties=False, cache_size=200, class_weight=None, coef0=0.0,\n",
              "    decision_function_shape='ovr', degree=3, gamma=0.7, kernel='rbf',\n",
              "    max_iter=-1, probability=False, random_state=None, shrinking=True,\n",
              "    tol=0.001, verbose=False)"
            ]
          },
          "metadata": {},
          "execution_count": 19
        }
      ]
    },
    {
      "cell_type": "markdown",
      "metadata": {
        "id": "tEQ3psoaEX6e"
      },
      "source": [
        "# Cross Validation within Train Dataset"
      ]
    },
    {
      "cell_type": "code",
      "metadata": {
        "colab": {
          "base_uri": "https://localhost:8080/"
        },
        "id": "NSroaMuSEYt7",
        "outputId": "464e9b5b-de2e-4510-f619-144a31d9c591"
      },
      "source": [
        "from sklearn.model_selection import cross_val_score\n",
        "res = cross_val_score(clf, X_std_train, y_train, cv=10, scoring='accuracy')\n",
        "print(\"Average Accuracy: \\t {0:.4f}\".format(np.mean(res)))\n",
        "print(\"Accuracy SD: \\t\\t {0:.4f}\".format(np.std(res)))\n",
        "\n",
        "from sklearn.model_selection import cross_val_predict\n",
        "y_train_pred = cross_val_predict(clf, X_std_train, y_train, cv=3)\n",
        "\n",
        "from sklearn.metrics import confusion_matrix\n",
        "confusion_matrix(y_train, y_train_pred)"
      ],
      "execution_count": 20,
      "outputs": [
        {
          "output_type": "stream",
          "name": "stdout",
          "text": [
            "Average Accuracy: \t 0.9500\n",
            "Accuracy SD: \t\t 0.0553\n"
          ]
        },
        {
          "output_type": "execute_result",
          "data": {
            "text/plain": [
              "array([[39,  0,  0],\n",
              "       [ 0, 35,  2],\n",
              "       [ 0,  3, 41]])"
            ]
          },
          "metadata": {},
          "execution_count": 20
        }
      ]
    },
    {
      "cell_type": "code",
      "metadata": {
        "colab": {
          "base_uri": "https://localhost:8080/"
        },
        "id": "9lTnxXO6EtGq",
        "outputId": "9f128487-e536-47ee-80ab-59f7fbc63353"
      },
      "source": [
        "from sklearn.metrics import precision_score, recall_score, f1_score\n",
        "print(\"Precision Score: \\t {0:.4f}\".format(precision_score(y_train, \n",
        "                                                           y_train_pred, \n",
        "                                                           average='weighted')))\n",
        "print(\"Recall Score: \\t\\t {0:.4f}\".format(recall_score(y_train,\n",
        "                                                     y_train_pred, \n",
        "                                                     average='weighted')))\n",
        "print(\"F1 Score: \\t\\t {0:.4f}\".format(f1_score(y_train,\n",
        "                                             y_train_pred, \n",
        "                                             average='weighted')))"
      ],
      "execution_count": 21,
      "outputs": [
        {
          "output_type": "stream",
          "name": "stdout",
          "text": [
            "Precision Score: \t 0.9586\n",
            "Recall Score: \t\t 0.9583\n",
            "F1 Score: \t\t 0.9584\n"
          ]
        }
      ]
    },
    {
      "cell_type": "markdown",
      "metadata": {
        "id": "51SLW0FWFXkD"
      },
      "source": [
        "# Improving Model using Grid Search and Feature Scaling"
      ]
    },
    {
      "cell_type": "code",
      "metadata": {
        "colab": {
          "base_uri": "https://localhost:8080/"
        },
        "id": "vRTVrXlCE2Bx",
        "outputId": "6159a8f0-2f3d-42fb-fcd9-fd2c172e49a6"
      },
      "source": [
        "from sklearn.pipeline import Pipeline \n",
        "pipeline = Pipeline([('clf', svm.SVC(kernel='rbf', C=1, gamma=0.1))]) \n",
        "\n",
        "params = {'clf__C':(0.1, 0.5, 1, 2, 5, 10, 20), \n",
        "          'clf__gamma':(0.001, 0.01, 0.1, 0.25, 0.5, 0.75, 1)} \n",
        "\n",
        "from sklearn.model_selection import train_test_split, GridSearchCV \n",
        "svm_grid_rbf = GridSearchCV(pipeline, params, n_jobs=-1,\n",
        "                            cv=3, verbose=1, scoring='accuracy') \n",
        "svm_grid_rbf.fit(X_train, y_train) "
      ],
      "execution_count": 22,
      "outputs": [
        {
          "output_type": "stream",
          "name": "stdout",
          "text": [
            "Fitting 3 folds for each of 49 candidates, totalling 147 fits\n"
          ]
        },
        {
          "output_type": "stream",
          "name": "stderr",
          "text": [
            "[Parallel(n_jobs=-1)]: Using backend LokyBackend with 2 concurrent workers.\n",
            "[Parallel(n_jobs=-1)]: Done 147 out of 147 | elapsed:    1.3s finished\n"
          ]
        },
        {
          "output_type": "execute_result",
          "data": {
            "text/plain": [
              "GridSearchCV(cv=3, error_score=nan,\n",
              "             estimator=Pipeline(memory=None,\n",
              "                                steps=[('clf',\n",
              "                                        SVC(C=1, break_ties=False,\n",
              "                                            cache_size=200, class_weight=None,\n",
              "                                            coef0=0.0,\n",
              "                                            decision_function_shape='ovr',\n",
              "                                            degree=3, gamma=0.1, kernel='rbf',\n",
              "                                            max_iter=-1, probability=False,\n",
              "                                            random_state=None, shrinking=True,\n",
              "                                            tol=0.001, verbose=False))],\n",
              "                                verbose=False),\n",
              "             iid='deprecated', n_jobs=-1,\n",
              "             param_grid={'clf__C': (0.1, 0.5, 1, 2, 5, 10, 20),\n",
              "                         'clf__gamma': (0.001, 0.01, 0.1, 0.25, 0.5, 0.75, 1)},\n",
              "             pre_dispatch='2*n_jobs', refit=True, return_train_score=False,\n",
              "             scoring='accuracy', verbose=1)"
            ]
          },
          "metadata": {},
          "execution_count": 22
        }
      ]
    },
    {
      "cell_type": "code",
      "metadata": {
        "colab": {
          "base_uri": "https://localhost:8080/"
        },
        "id": "9Wz4EhSYGOpx",
        "outputId": "53bea19f-5007-4cc5-acf9-2f2e39e05670"
      },
      "source": [
        "svm_grid_rbf.best_score_\n",
        "print(\"RBF Best Score: \\t\\t {0:.4f}\".format(svm_grid_rbf.best_score_))\n",
        "\n",
        "best = svm_grid_rbf.best_estimator_.get_params() \n",
        "for k in sorted(params.keys()): \n",
        "    print('Best parameter for {0}: \\t {1:.2f}'.format(k, best[k]))"
      ],
      "execution_count": 23,
      "outputs": [
        {
          "output_type": "stream",
          "name": "stdout",
          "text": [
            "RBF Best Score: \t\t 0.9583\n",
            "Best parameter for clf__C: \t 0.50\n",
            "Best parameter for clf__gamma: \t 0.50\n"
          ]
        }
      ]
    },
    {
      "cell_type": "markdown",
      "metadata": {
        "id": "bdN6heVTG6Wm"
      },
      "source": [
        "# Conducting validation in the test dataset"
      ]
    },
    {
      "cell_type": "code",
      "metadata": {
        "colab": {
          "base_uri": "https://localhost:8080/"
        },
        "id": "FdG8VAF2G-dX",
        "outputId": "63e5c8db-2d36-44b4-91fc-faf02d086109"
      },
      "source": [
        "y_test_pred = svm_grid_rbf.predict(X_test)\n",
        "confusion_matrix(y_test, y_test_pred)"
      ],
      "execution_count": 24,
      "outputs": [
        {
          "output_type": "execute_result",
          "data": {
            "text/plain": [
              "array([[11,  0,  0],\n",
              "       [ 0, 13,  0],\n",
              "       [ 0,  0,  6]])"
            ]
          },
          "metadata": {},
          "execution_count": 24
        }
      ]
    },
    {
      "cell_type": "code",
      "metadata": {
        "colab": {
          "base_uri": "https://localhost:8080/"
        },
        "id": "rVOY7yWzHBhm",
        "outputId": "58d0578a-649c-4f3a-f049-a6331c531390"
      },
      "source": [
        "print(\"Precision Score: \\t {0:.4f}\".format(precision_score(y_test, \n",
        "                                                           y_test_pred, \n",
        "                                                           average='weighted')))\n",
        "print(\"Recall Score: \\t\\t {0:.4f}\".format(recall_score(y_test,\n",
        "                                                       y_test_pred, \n",
        "                                                       average='weighted')))\n",
        "print(\"F1 Score: \\t\\t {0:.4f}\".format(f1_score(y_test,\n",
        "                                               y_test_pred, \n",
        "                                               average='weighted')))"
      ],
      "execution_count": 25,
      "outputs": [
        {
          "output_type": "stream",
          "name": "stdout",
          "text": [
            "Precision Score: \t 1.0000\n",
            "Recall Score: \t\t 1.0000\n",
            "F1 Score: \t\t 1.0000\n"
          ]
        }
      ]
    },
    {
      "cell_type": "markdown",
      "metadata": {
        "id": "PphrJJw8HM6Q"
      },
      "source": [
        "# SVM using RBF Visualization"
      ]
    },
    {
      "cell_type": "code",
      "metadata": {
        "colab": {
          "base_uri": "https://localhost:8080/",
          "height": 374
        },
        "id": "MKQ7SyqSHP0c",
        "outputId": "b328386c-d46f-4e35-e375-01b926be5c7c"
      },
      "source": [
        "Xv = X.values.reshape(-1,1)\n",
        "h = 0.02\n",
        "x_min, x_max = Xv.min(), Xv.max() + 1\n",
        "y_min, y_max = y.min(), y.max() + 1\n",
        "xx, yy = np.meshgrid(np.arange(x_min, x_max, h),\n",
        "                     np.arange(y_min, y_max, h))\n",
        "\n",
        "z = svm_grid_rbf.predict(np.c_[xx.ravel(), yy.ravel()])\n",
        "z = z.reshape(xx.shape)\n",
        "fig = plt.figure(figsize=(8,6))\n",
        "ax = plt.contourf(xx, yy, z, cmap = 'afmhot', alpha=0.3);\n",
        "plt.scatter(X.values[:, 0], X.values[:, 1], c=y, s=80, \n",
        "            alpha=0.9, edgecolors='g');"
      ],
      "execution_count": 26,
      "outputs": [
        {
          "output_type": "display_data",
          "data": {
            "image/png": "[encoded data removed]",
            "text/plain": [
              "<Figure size 576x432 with 1 Axes>"
            ]
          },
          "metadata": {}
        }
      ]
    }
  ]
}